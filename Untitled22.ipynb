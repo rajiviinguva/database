{
 "cells": [
  {
   "cell_type": "code",
   "execution_count": 1,
   "metadata": {},
   "outputs": [],
   "source": [
    "# import libraries\n",
    "\n",
    "import pandas as pd\n",
    "import sqlite3"
   ]
  },
  {
   "cell_type": "code",
   "execution_count": 2,
   "metadata": {},
   "outputs": [
    {
     "name": "stdout",
     "output_type": "stream",
     "text": [
      "Requirement already satisfied: ipython-sql in c:\\users\\bhava\\anaconda3\\anaconda\\lib\\site-packages (0.4.0)\n",
      "Requirement already satisfied: sqlparse in c:\\users\\bhava\\anaconda3\\anaconda\\lib\\site-packages (from ipython-sql) (0.4.2)\n",
      "Requirement already satisfied: prettytable<1 in c:\\users\\bhava\\anaconda3\\anaconda\\lib\\site-packages (from ipython-sql) (0.7.2)\n",
      "Requirement already satisfied: six in c:\\users\\bhava\\anaconda3\\anaconda\\lib\\site-packages (from ipython-sql) (1.11.0)\n",
      "Requirement already satisfied: ipython-genutils>=0.1.0 in c:\\users\\bhava\\anaconda3\\anaconda\\lib\\site-packages (from ipython-sql) (0.2.0)\n",
      "Requirement already satisfied: ipython>=1.0 in c:\\users\\bhava\\anaconda3\\anaconda\\lib\\site-packages (from ipython-sql) (6.4.0)\n",
      "Requirement already satisfied: sqlalchemy>=0.6.7 in c:\\users\\bhava\\anaconda3\\anaconda\\lib\\site-packages (from ipython-sql) (1.2.7)\n",
      "Requirement already satisfied: prompt-toolkit<2.0.0,>=1.0.15 in c:\\users\\bhava\\anaconda3\\anaconda\\lib\\site-packages (from ipython>=1.0->ipython-sql) (1.0.15)\n",
      "Requirement already satisfied: pickleshare in c:\\users\\bhava\\anaconda3\\anaconda\\lib\\site-packages (from ipython>=1.0->ipython-sql) (0.7.4)\n",
      "Requirement already satisfied: pygments in c:\\users\\bhava\\anaconda3\\anaconda\\lib\\site-packages (from ipython>=1.0->ipython-sql) (2.2.0)\n",
      "Requirement already satisfied: colorama; sys_platform == \"win32\" in c:\\users\\bhava\\anaconda3\\anaconda\\lib\\site-packages (from ipython>=1.0->ipython-sql) (0.3.9)\n",
      "Requirement already satisfied: backcall in c:\\users\\bhava\\anaconda3\\anaconda\\lib\\site-packages (from ipython>=1.0->ipython-sql) (0.1.0)\n",
      "Requirement already satisfied: simplegeneric>0.8 in c:\\users\\bhava\\anaconda3\\anaconda\\lib\\site-packages (from ipython>=1.0->ipython-sql) (0.8.1)\n",
      "Requirement already satisfied: setuptools>=18.5 in c:\\users\\bhava\\anaconda3\\anaconda\\lib\\site-packages (from ipython>=1.0->ipython-sql) (39.1.0)\n",
      "Requirement already satisfied: decorator in c:\\users\\bhava\\anaconda3\\anaconda\\lib\\site-packages (from ipython>=1.0->ipython-sql) (4.3.0)\n",
      "Requirement already satisfied: traitlets>=4.2 in c:\\users\\bhava\\anaconda3\\anaconda\\lib\\site-packages (from ipython>=1.0->ipython-sql) (4.3.2)\n",
      "Requirement already satisfied: jedi>=0.10 in c:\\users\\bhava\\anaconda3\\anaconda\\lib\\site-packages (from ipython>=1.0->ipython-sql) (0.12.0)\n",
      "Requirement already satisfied: wcwidth in c:\\users\\bhava\\anaconda3\\anaconda\\lib\\site-packages (from prompt-toolkit<2.0.0,>=1.0.15->ipython>=1.0->ipython-sql) (0.1.7)\n",
      "Requirement already satisfied: parso>=0.2.0 in c:\\users\\bhava\\anaconda3\\anaconda\\lib\\site-packages (from jedi>=0.10->ipython>=1.0->ipython-sql) (0.2.0)\n"
     ]
    },
    {
     "name": "stderr",
     "output_type": "stream",
     "text": [
      "distributed 1.21.8 requires msgpack, which is not installed.\n",
      "You are using pip version 10.0.1, however version 21.2.4 is available.\n",
      "You should consider upgrading via the 'python -m pip install --upgrade pip' command.\n"
     ]
    }
   ],
   "source": [
    "#install the ipython-sql library\n",
    "!pip install ipython-sql"
   ]
  },
  {
   "cell_type": "code",
   "execution_count": 6,
   "metadata": {},
   "outputs": [
    {
     "data": {
      "text/html": [
       "<div>\n",
       "<style scoped>\n",
       "    .dataframe tbody tr th:only-of-type {\n",
       "        vertical-align: middle;\n",
       "    }\n",
       "\n",
       "    .dataframe tbody tr th {\n",
       "        vertical-align: top;\n",
       "    }\n",
       "\n",
       "    .dataframe thead th {\n",
       "        text-align: right;\n",
       "    }\n",
       "</style>\n",
       "<table border=\"1\" class=\"dataframe\">\n",
       "  <thead>\n",
       "    <tr style=\"text-align: right;\">\n",
       "      <th></th>\n",
       "      <th>movie</th>\n",
       "      <th>actress</th>\n",
       "      <th>director</th>\n",
       "      <th>year</th>\n",
       "      <th>actor</th>\n",
       "    </tr>\n",
       "  </thead>\n",
       "  <tbody>\n",
       "    <tr>\n",
       "      <th>0</th>\n",
       "      <td>hello</td>\n",
       "      <td>kalyani</td>\n",
       "      <td>vikram.k</td>\n",
       "      <td>2017</td>\n",
       "      <td>akhil</td>\n",
       "    </tr>\n",
       "    <tr>\n",
       "      <th>1</th>\n",
       "      <td>ready</td>\n",
       "      <td>genelia</td>\n",
       "      <td>srinu.v</td>\n",
       "      <td>2008</td>\n",
       "      <td>ram</td>\n",
       "    </tr>\n",
       "    <tr>\n",
       "      <th>2</th>\n",
       "      <td>pizza</td>\n",
       "      <td>remya</td>\n",
       "      <td>karthik</td>\n",
       "      <td>2012</td>\n",
       "      <td>vijay.s</td>\n",
       "    </tr>\n",
       "    <tr>\n",
       "      <th>3</th>\n",
       "      <td>akhil</td>\n",
       "      <td>ayyesha</td>\n",
       "      <td>vinayak</td>\n",
       "      <td>2016</td>\n",
       "      <td>akhil</td>\n",
       "    </tr>\n",
       "    <tr>\n",
       "      <th>4</th>\n",
       "      <td>maska</td>\n",
       "      <td>hansika</td>\n",
       "      <td>gopal</td>\n",
       "      <td>2009</td>\n",
       "      <td>ram</td>\n",
       "    </tr>\n",
       "  </tbody>\n",
       "</table>\n",
       "</div>"
      ],
      "text/plain": [
       "   movie  actress  director  year    actor\n",
       "0  hello  kalyani  vikram.k  2017    akhil\n",
       "1  ready  genelia   srinu.v  2008      ram\n",
       "2  pizza    remya   karthik  2012  vijay.s\n",
       "3  akhil  ayyesha   vinayak  2016    akhil\n",
       "4  maska  hansika     gopal  2009      ram"
      ]
     },
     "execution_count": 6,
     "metadata": {},
     "output_type": "execute_result"
    }
   ],
   "source": [
    "#create a dataframe to import data for the tutorial\n",
    "\n",
    "df= pd.DataFrame({'movie':['hello','ready','pizza','akhil','maska'],\n",
    "                  'actress':['kalyani','genelia','remya','ayyesha','hansika'],\n",
    "                  'director':['vikram.k','srinu.v','karthik','vinayak','gopal'],\n",
    "                 'year' :[2017,2008,2012,2016,2009],\n",
    "                 'actor':['akhil','ram','vijay.s','akhil','ram']})\n",
    "df"
   ]
  },
  {
   "cell_type": "code",
   "execution_count": null,
   "metadata": {},
   "outputs": [],
   "source": []
  }
 ],
 "metadata": {
  "kernelspec": {
   "display_name": "Python 3",
   "language": "python",
   "name": "python3"
  },
  "language_info": {
   "codemirror_mode": {
    "name": "ipython",
    "version": 3
   },
   "file_extension": ".py",
   "mimetype": "text/x-python",
   "name": "python",
   "nbconvert_exporter": "python",
   "pygments_lexer": "ipython3",
   "version": "3.6.5"
  }
 },
 "nbformat": 4,
 "nbformat_minor": 2
}
